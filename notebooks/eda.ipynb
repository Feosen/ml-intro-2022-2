{
 "cells": [
  {
   "cell_type": "code",
   "execution_count": null,
   "id": "b489cb9e",
   "metadata": {},
   "outputs": [],
   "source": [
    "import itertools\n",
    "import math\n",
    "import numpy as np\n",
    "import pandas as pd\n",
    "import seaborn as sns\n",
    "from matplotlib import pyplot as plt\n",
    "\n",
    "pd.set_option('display.max_column', None)"
   ]
  },
  {
   "cell_type": "markdown",
   "id": "d07912a0",
   "metadata": {},
   "source": [
    "# Context"
   ]
  },
  {
   "cell_type": "code",
   "execution_count": null,
   "id": "6b981d68",
   "metadata": {},
   "outputs": [],
   "source": [
    "data = pd.read_csv(\"../data/train.csv\")\n",
    "data.head()\n",
    "# Notice: embarked \tPort of Embarkation \tC = Cherbourg, Q = Queenstown, S = Southampton\n",
    "# Notice: sibsp \t# of siblings / spouses aboard the Titanic\n",
    "# Notice: parch \t# of parents / children aboard the Titanic"
   ]
  },
  {
   "cell_type": "markdown",
   "id": "9b4320c6",
   "metadata": {},
   "source": [
    "# Data quality assessment"
   ]
  },
  {
   "cell_type": "code",
   "execution_count": null,
   "id": "e443ca82",
   "metadata": {},
   "outputs": [],
   "source": [
    "data.info()"
   ]
  },
  {
   "cell_type": "markdown",
   "source": [
    "## Перечисления"
   ],
   "metadata": {
    "collapsed": false,
    "pycharm": {
     "name": "#%% md\n"
    }
   }
  },
  {
   "cell_type": "code",
   "execution_count": null,
   "outputs": [],
   "source": [
    "assert data['PassengerId'].is_unique\n",
    "assert 0 == data[~data['Survived'].isin((0, 1))].size\n",
    "data['Survived'] = data['Survived'].astype('bool')\n",
    "assert 0 == data[~data['Sex'].isin(('male', 'female'))].size\n",
    "assert 0 == data[~data['Embarked'].isin(['C', 'Q', 'S', np.nan])].size\n",
    "assert 0 == data[~data['Pclass'].isin([1, 2, 3])].size"
   ],
   "metadata": {
    "collapsed": false,
    "pycharm": {
     "name": "#%%\n"
    }
   }
  },
  {
   "cell_type": "markdown",
   "source": [
    "## Проверим возможные полные дубликаты"
   ],
   "metadata": {
    "collapsed": false,
    "pycharm": {
     "name": "#%% md\n"
    }
   }
  },
  {
   "cell_type": "code",
   "execution_count": null,
   "outputs": [],
   "source": [
    "assert 0 == data[data.duplicated(subset=list(filter(lambda c: c != 'PassengerId', data.columns)))].size"
   ],
   "metadata": {
    "collapsed": false,
    "pycharm": {
     "name": "#%%\n"
    }
   }
  },
  {
   "cell_type": "markdown",
   "source": [
    "## Родственные связи\n",
    "У супружеской пары без детей или у пары сиблингов в 'SibSp' должно быть по единице, следовательно, при согласованных данных количество семей из N человек можно вычислить как M / (SibSp + 1), где M - количество записей SibSp == N - 1."
   ],
   "metadata": {
    "collapsed": false,
    "pycharm": {
     "name": "#%% md\n"
    }
   }
  },
  {
   "cell_type": "code",
   "execution_count": null,
   "outputs": [],
   "source": [
    "_d = data.groupby('SibSp').count()['PassengerId'].reset_index()\n",
    "_d[_d['PassengerId'] % (_d['SibSp'] + 1) != 0]"
   ],
   "metadata": {
    "collapsed": false,
    "pycharm": {
     "name": "#%%\n"
    }
   }
  },
  {
   "cell_type": "markdown",
   "source": [
    "Вывод: для кого-то количество супругов/сиблингов указанно с ошибкой.\n",
    "Аналогично проверим родиетелй/детей."
   ],
   "metadata": {
    "collapsed": false,
    "pycharm": {
     "name": "#%% md\n"
    }
   }
  },
  {
   "cell_type": "code",
   "execution_count": null,
   "outputs": [],
   "source": [
    "_d = data.groupby('Parch').count()['PassengerId'].reset_index()\n",
    "_d[_d['PassengerId'] % (_d['Parch'] + 1) != 0]"
   ],
   "metadata": {
    "collapsed": false,
    "pycharm": {
     "name": "#%%\n"
    }
   }
  },
  {
   "cell_type": "markdown",
   "source": [
    "Тоже не сходится.\n",
    "\n",
    "## Разберём сложные строки: буквенные коды могут быть полезны"
   ],
   "metadata": {
    "collapsed": false,
    "pycharm": {
     "name": "#%% md\n"
    }
   }
  },
  {
   "cell_type": "code",
   "execution_count": null,
   "outputs": [],
   "source": [
    "data[['TicketPref', 'TicketNum']] = data['Ticket'].str.extract(r'(?:(.+)\\s)?(\\d+)')\n",
    "# Нулевых билетов нет, поэтому можно заменить NaN на 0\n",
    "# TODO: data[data['TicketNum'].isnull()] = 0\n",
    "data['TicketNum'] = data['TicketNum'].astype('float64')\n",
    "data[['CabinPref', 'CabinNum']] = data['Cabin'].str.extract(r'([A-Za-z])(\\d+)')\n",
    "# Нулевых кают нет, поэтому можно заменить NaN на 0\n",
    "# TODO: data[data['CabinNum'].isnull()] = 0\n",
    "data['CabinNum'] = data['CabinNum'].astype('float64')"
   ],
   "metadata": {
    "collapsed": false,
    "pycharm": {
     "name": "#%%\n"
    }
   }
  },
  {
   "cell_type": "markdown",
   "source": [
    "Поскольку здесь нет полностью бесполезных строк, ничего удалять не будем. При необходимости данные будем фильтровывать, исключая кортежи с пустыми значениями.\n",
    "Для работы с возрастом может быть интересна классификация на взрослый/ребёнок."
   ],
   "metadata": {
    "collapsed": false,
    "pycharm": {
     "name": "#%% md\n"
    }
   }
  },
  {
   "cell_type": "code",
   "execution_count": null,
   "outputs": [],
   "source": [
    "def get_type(age: int, sex: str) -> str:\n",
    "    if age >= 60:\n",
    "        a = 'Old'\n",
    "    elif age >= 18:\n",
    "        a = 'Adult'\n",
    "    else:\n",
    "        a = 'Child'\n",
    "    s = sex.capitalize()\n",
    "    return f'{a}{s}'\n",
    "\n",
    "data['type'] = data.apply(lambda x: get_type(x.Age, x.Sex), axis=1)"
   ],
   "metadata": {
    "collapsed": false,
    "pycharm": {
     "name": "#%%\n"
    }
   }
  },
  {
   "cell_type": "markdown",
   "id": "5408eca5",
   "metadata": {},
   "source": [
    "# Data exploration"
   ]
  },
  {
   "cell_type": "markdown",
   "id": "2417286d",
   "metadata": {
    "pycharm": {
     "name": "#%% md\n"
    }
   },
   "source": [
    "## Отдельные параметры"
   ]
  },
  {
   "cell_type": "code",
   "execution_count": null,
   "outputs": [],
   "source": [
    "data.describe()"
   ],
   "metadata": {
    "collapsed": false,
    "pycharm": {
     "name": "#%%\n"
    }
   }
  },
  {
   "cell_type": "markdown",
   "source": [
    "Явно аномальных значений (например, возраст в 1000 лет) нет."
   ],
   "metadata": {
    "collapsed": false,
    "pycharm": {
     "name": "#%% md\n"
    }
   }
  },
  {
   "cell_type": "code",
   "execution_count": null,
   "outputs": [],
   "source": [
    "corr_b_fields = ['Survived']\n",
    "corr_n_fields = ['Pclass', 'Age', 'Parch', 'SibSp', 'Fare', 'TicketNum', 'CabinNum']\n",
    "corr_o_fields = ['TicketPref', 'CabinPref', 'Embarked', 'type']\n",
    "\n",
    "for f in corr_o_fields:\n",
    "    plt.subplots()\n",
    "    sns.countplot(data=data[data[f].notnull()], x=f)\n",
    "for f in corr_n_fields:\n",
    "    plt.subplots()\n",
    "    sns.histplot(data=data[data[f].notnull()], x=f)"
   ],
   "metadata": {
    "collapsed": false,
    "pycharm": {
     "name": "#%%\n"
    }
   }
  },
  {
   "cell_type": "markdown",
   "source": [
    "Здесь речь о тех пассажирах для которых известен параметр.\n",
    "Префикс каюты - вероятно палуба. Числовая часть билетов явно имеет повторы, причины неизвестны. Стоимость проезда имеет три выраженных пика, вероятно, связана с пассажирским классом. Интересны пики в гистограмме возраста, стоит рассмотреть связи. Наибольшее количество пассажиров в диапазоне 20-30 лет. Больше всего пассажиров зашло на борт в Саутгемптоне. Преобладающий тип пассажира - взрослый мужчина, класс - третий.\n",
    "\n",
    "## Взаимосвязь параметров\n",
    "Рассмотрим корреляцию разных переменных. Участки кода, отображающие все возможные сочетания закомментированы, чтобы не перегружать отчёт менее малоинформативными графиками."
   ],
   "metadata": {
    "collapsed": false,
    "pycharm": {
     "name": "#%% md\n"
    }
   }
  },
  {
   "cell_type": "code",
   "execution_count": null,
   "outputs": [],
   "source": [
    "data.corr(method=\"pearson\")"
   ],
   "metadata": {
    "collapsed": false,
    "pycharm": {
     "name": "#%%\n"
    }
   }
  },
  {
   "cell_type": "markdown",
   "source": [
    "Наблюдаем слабую связь выживаемости с возрастом (0.103895), стоимостью билета (0.187534) и среднюю связь с пассажирским классом (-0.289723).\n",
    "Стоимость билета сильно связана (-0.417354) с пассажирским классом (очевидно, 1-й дороже)."
   ],
   "metadata": {
    "collapsed": false,
    "pycharm": {
     "name": "#%% md\n"
    }
   }
  },
  {
   "cell_type": "code",
   "execution_count": null,
   "outputs": [],
   "source": [
    "for a, b in itertools.combinations(('Pclass', 'CabinPref', 'Embarked', 'Survived', 'Sex'), 2):\n",
    "    sns.catplot(y=a, hue=b, kind=\"count\", data=data)\n",
    "for o in ('Pclass', 'CabinPref', 'Embarked', 'Survived', 'Sex'):\n",
    "    for n in ('Age', 'Parch', 'SibSp', 'Fare'):\n",
    "        plt.subplots()\n",
    "        sns.boxplot(data=data, y=n, x=o)"
   ],
   "metadata": {
    "collapsed": false,
    "pycharm": {
     "name": "#%%\n"
    }
   }
  },
  {
   "cell_type": "markdown",
   "source": [
    "Большинство пассажиров из Саутгемптона.\n",
    "Больше всего выжило в первом классе, меньше - третьем.\n",
    "Аналогично по классам распределены женщины.\n",
    "Самый маленький процент выживших на палубе A - вдвое меньше чем погибших, на остальных палубах выживших больше чем погибших. Это совпадает с распределением женщин по палубам.\n",
    "Аналогичные соотношения и в пункте отправления.\n",
    "В первом классе едут люди постарше, семейные (только в нём), третий класс выбирают пассажиры, едущие в одиночку.\n",
    "Стоимость проезда в первом классе выше.\n",
    "Почему-то для мужчин не указывается количество родственников.\n",
    "\n",
    "### Стоимость проезда"
   ],
   "metadata": {
    "collapsed": false,
    "pycharm": {
     "name": "#%% md\n"
    }
   }
  },
  {
   "cell_type": "code",
   "execution_count": null,
   "outputs": [],
   "source": [
    "plt.subplots(figsize=(10,10))\n",
    "sns.boxplot(data=data, y='Fare', x='CabinPref', hue='Pclass')\n",
    "plt.subplots(figsize=(10,10))\n",
    "sns.boxplot(data=data, y='Fare', x='type', hue='Pclass')\n",
    "plt.subplots(figsize=(10,10))\n",
    "sns.boxplot(data=data, y='Fare', x='Embarked', hue='Pclass')"
   ],
   "metadata": {
    "collapsed": false,
    "pycharm": {
     "name": "#%%\n"
    }
   }
  },
  {
   "cell_type": "markdown",
   "source": [
    "Даже с учётом обилия выбросов хорошо видно, что стоимость проезда и её вариативность возрастают вместе с комфортабельностью класса - предположительно возрастает количество доступных для приобретения дополнительных услуг, причём для женщин всех возрастов приобретается больший набор.\n",
    "Доступный набор услуг не отличается от пункта отправления (хорошо видно по стоимости проезда второго и третьего классов) и можно предположить, что из Шербурга плывут более состоятельные пассажиры обоих полов."
   ],
   "metadata": {
    "collapsed": false,
    "pycharm": {
     "name": "#%% md\n"
    }
   }
  },
  {
   "cell_type": "markdown",
   "source": [
    "### Выживаемость\n",
    "Стоит рассмотреть соблюдение принципа спасения \"женщины и дети в первую очередь\"."
   ],
   "metadata": {
    "collapsed": false,
    "pycharm": {
     "name": "#%% md\n"
    }
   }
  },
  {
   "cell_type": "code",
   "execution_count": null,
   "outputs": [],
   "source": [
    "sns.catplot(y='type', hue='Survived', kind=\"count\", data=data)"
   ],
   "metadata": {
    "collapsed": false,
    "pycharm": {
     "name": "#%%\n"
    }
   }
  },
  {
   "cell_type": "code",
   "execution_count": null,
   "outputs": [],
   "source": [
    "plt.subplots(figsize=(14, 4))\n",
    "sns.heatmap(data.groupby(['CabinPref', 'Pclass', 'Sex']).count()\n",
    "            .reset_index().pivot(columns=['CabinPref', 'Pclass'], index='Sex', values='PassengerId'), annot=True, fmt='.0f')\n",
    "plt.subplots(figsize=(14, 4))\n",
    "sns.heatmap((data[data['Survived']].groupby(['CabinPref', 'Pclass', 'Sex']).count()\n",
    "             / data.groupby(['CabinPref', 'Pclass', 'Sex']).count())\n",
    "            .reset_index().pivot(columns=['CabinPref', 'Pclass'], index='Sex', values='PassengerId'), annot=True, fmt='.0%')"
   ],
   "metadata": {
    "collapsed": false,
    "pycharm": {
     "name": "#%%\n"
    }
   }
  },
  {
   "cell_type": "markdown",
   "source": [
    "Во всех возрастных категориях (и среди детей) предпочтение по спасению в пользу женщин.\n",
    "На палубе T слишком мало пассажиров, чтобы судить об удобстве эвакуции с неё. Хуэе всего для эвакуации приспособлена палуба A."
   ],
   "metadata": {
    "collapsed": false,
    "pycharm": {
     "name": "#%% md\n"
    }
   }
  },
  {
   "cell_type": "markdown",
   "source": [
    "### Бонус. Спасают ли от утопления \"счастливые билеты\"?"
   ],
   "metadata": {
    "collapsed": false,
    "pycharm": {
     "name": "#%% md\n"
    }
   }
  },
  {
   "cell_type": "code",
   "execution_count": null,
   "outputs": [],
   "source": [
    "lucky_data = data[data['TicketNum'].notnull()][['Survived', 'TicketNum']]\n",
    "def is_lucky(n):\n",
    "    n = str(int(n))\n",
    "    return sum(map(int, n[:math.floor(len(n)/2)])) == sum(map(int, n[math.ceil(len(n)/2):]))\n",
    "\n",
    "lucky_data['is_lucky'] = lucky_data['TicketNum'].apply(is_lucky)\n",
    "lucky_data = lucky_data.groupby(['is_lucky', 'Survived']).count().reset_index()\n",
    "lucky_data[lucky_data['Survived']].reset_index()['TicketNum'] / lucky_data.groupby('is_lucky').sum().reset_index()['TicketNum']"
   ],
   "metadata": {
    "collapsed": false,
    "pycharm": {
     "name": "#%%\n"
    }
   }
  },
  {
   "cell_type": "markdown",
   "source": [
    "Среди обладателей счастливых и обычных билетов процент выживших одинаков - \"счастливые билетики\" от утопления *не* спасают."
   ],
   "metadata": {
    "collapsed": false,
    "pycharm": {
     "name": "#%% md\n"
    }
   }
  },
  {
   "cell_type": "markdown",
   "id": "034945c8",
   "metadata": {},
   "source": [
    "# Summary\n",
    "Наибольшие шансы на спасение (>=90%) у женщин, едущих вторым классом на палубах D, E, F, G. Наименьшие шансы на спасение у мужчин, едущих третьим классом на палубе A. Самая \"опасная\" палуба - A."
   ]
  },
  {
   "cell_type": "markdown",
   "id": "72e3fb13",
   "metadata": {
    "pycharm": {
     "name": "#%% md\n"
    }
   },
   "source": []
  }
 ],
 "metadata": {
  "kernelspec": {
   "display_name": "Python 3 (ipykernel)",
   "language": "python",
   "name": "python3"
  },
  "language_info": {
   "codemirror_mode": {
    "name": "ipython",
    "version": 3
   },
   "file_extension": ".py",
   "mimetype": "text/x-python",
   "name": "python",
   "nbconvert_exporter": "python",
   "pygments_lexer": "ipython3",
   "version": "3.8.12"
  },
  "toc": {
   "base_numbering": 1,
   "nav_menu": {},
   "number_sections": true,
   "sideBar": true,
   "skip_h1_title": false,
   "title_cell": "Table of Contents",
   "title_sidebar": "Contents",
   "toc_cell": false,
   "toc_position": {},
   "toc_section_display": true,
   "toc_window_display": false
  }
 },
 "nbformat": 4,
 "nbformat_minor": 5
}